{
 "cells": [
  {
   "cell_type": "code",
   "execution_count": 38,
   "id": "81fa9ecc",
   "metadata": {},
   "outputs": [],
   "source": [
    "import numpy as np\n",
    "import pandas as pd\n",
    "import matplotlib.pyplot as plt\n",
    "import seaborn as sns\n",
    "import scipy.stats \n",
    "from sklearn.preprocessing import StandardScaler\n",
    "from sklearn.model_selection import train_test_split\n",
    "from sklearn.ensemble import RandomForestClassifier\n",
    "from sklearn.metrics import confusion_matrix,classification_report"
   ]
  },
  {
   "cell_type": "code",
   "execution_count": 3,
   "id": "63a73634",
   "metadata": {},
   "outputs": [
    {
     "data": {
      "text/html": [
       "<div>\n",
       "<style scoped>\n",
       "    .dataframe tbody tr th:only-of-type {\n",
       "        vertical-align: middle;\n",
       "    }\n",
       "\n",
       "    .dataframe tbody tr th {\n",
       "        vertical-align: top;\n",
       "    }\n",
       "\n",
       "    .dataframe thead th {\n",
       "        text-align: right;\n",
       "    }\n",
       "</style>\n",
       "<table border=\"1\" class=\"dataframe\">\n",
       "  <thead>\n",
       "    <tr style=\"text-align: right;\">\n",
       "      <th></th>\n",
       "      <th>Mean</th>\n",
       "      <th>Maximum_value</th>\n",
       "      <th>Minimum_value</th>\n",
       "      <th>Range</th>\n",
       "      <th>Standard Deviation</th>\n",
       "      <th>Variance</th>\n",
       "      <th>Absolute_mean</th>\n",
       "      <th>Absolute_MAX</th>\n",
       "      <th>RMS</th>\n",
       "      <th>Crest Factor</th>\n",
       "      <th>Shape factor</th>\n",
       "      <th>Impulse Factor</th>\n",
       "      <th>Kurtosis</th>\n",
       "      <th>Skewness</th>\n",
       "      <th>Clearance Factor</th>\n",
       "      <th>Label</th>\n",
       "      <th>Label_no</th>\n",
       "      <th>FAULT TYPE</th>\n",
       "    </tr>\n",
       "  </thead>\n",
       "  <tbody>\n",
       "    <tr>\n",
       "      <th>0</th>\n",
       "      <td>0.017268</td>\n",
       "      <td>1.412952</td>\n",
       "      <td>-1.357043</td>\n",
       "      <td>2.769995</td>\n",
       "      <td>0.281398</td>\n",
       "      <td>0.079185</td>\n",
       "      <td>0.196635</td>\n",
       "      <td>1.412952</td>\n",
       "      <td>0.281927</td>\n",
       "      <td>5.011757</td>\n",
       "      <td>1.433760</td>\n",
       "      <td>7.185659</td>\n",
       "      <td>4.159016</td>\n",
       "      <td>0.031073</td>\n",
       "      <td>9.014326</td>\n",
       "      <td>IR_7_2</td>\n",
       "      <td>0</td>\n",
       "      <td>INNER RACE FAULT OF 0.007 INCH</td>\n",
       "    </tr>\n",
       "    <tr>\n",
       "      <th>1</th>\n",
       "      <td>0.018069</td>\n",
       "      <td>1.584851</td>\n",
       "      <td>-1.358086</td>\n",
       "      <td>2.942937</td>\n",
       "      <td>0.282474</td>\n",
       "      <td>0.079792</td>\n",
       "      <td>0.193394</td>\n",
       "      <td>1.584851</td>\n",
       "      <td>0.283051</td>\n",
       "      <td>5.599162</td>\n",
       "      <td>1.463597</td>\n",
       "      <td>8.194916</td>\n",
       "      <td>4.614927</td>\n",
       "      <td>-0.071194</td>\n",
       "      <td>10.411133</td>\n",
       "      <td>IR_7_2</td>\n",
       "      <td>0</td>\n",
       "      <td>INNER RACE FAULT OF 0.007 INCH</td>\n",
       "    </tr>\n",
       "    <tr>\n",
       "      <th>2</th>\n",
       "      <td>0.018003</td>\n",
       "      <td>1.363093</td>\n",
       "      <td>-1.324916</td>\n",
       "      <td>2.688009</td>\n",
       "      <td>0.277097</td>\n",
       "      <td>0.076783</td>\n",
       "      <td>0.197085</td>\n",
       "      <td>1.363093</td>\n",
       "      <td>0.277682</td>\n",
       "      <td>4.908836</td>\n",
       "      <td>1.408944</td>\n",
       "      <td>6.916276</td>\n",
       "      <td>4.031559</td>\n",
       "      <td>-0.065819</td>\n",
       "      <td>8.552567</td>\n",
       "      <td>IR_7_2</td>\n",
       "      <td>0</td>\n",
       "      <td>INNER RACE FAULT OF 0.007 INCH</td>\n",
       "    </tr>\n",
       "    <tr>\n",
       "      <th>3</th>\n",
       "      <td>0.016062</td>\n",
       "      <td>1.204754</td>\n",
       "      <td>-1.366639</td>\n",
       "      <td>2.571393</td>\n",
       "      <td>0.291336</td>\n",
       "      <td>0.084877</td>\n",
       "      <td>0.199947</td>\n",
       "      <td>1.366639</td>\n",
       "      <td>0.291778</td>\n",
       "      <td>4.683827</td>\n",
       "      <td>1.459277</td>\n",
       "      <td>6.834998</td>\n",
       "      <td>3.899971</td>\n",
       "      <td>-0.136256</td>\n",
       "      <td>8.657523</td>\n",
       "      <td>IR_7_2</td>\n",
       "      <td>0</td>\n",
       "      <td>INNER RACE FAULT OF 0.007 INCH</td>\n",
       "    </tr>\n",
       "    <tr>\n",
       "      <th>4</th>\n",
       "      <td>0.014902</td>\n",
       "      <td>1.524770</td>\n",
       "      <td>-1.471156</td>\n",
       "      <td>2.995926</td>\n",
       "      <td>0.280108</td>\n",
       "      <td>0.078460</td>\n",
       "      <td>0.193867</td>\n",
       "      <td>1.524770</td>\n",
       "      <td>0.280504</td>\n",
       "      <td>5.435823</td>\n",
       "      <td>1.446891</td>\n",
       "      <td>7.865044</td>\n",
       "      <td>4.702297</td>\n",
       "      <td>-0.285466</td>\n",
       "      <td>9.985361</td>\n",
       "      <td>IR_7_2</td>\n",
       "      <td>0</td>\n",
       "      <td>INNER RACE FAULT OF 0.007 INCH</td>\n",
       "    </tr>\n",
       "  </tbody>\n",
       "</table>\n",
       "</div>"
      ],
      "text/plain": [
       "       Mean  Maximum_value  Minimum_value     Range  Standard Deviation  \\\n",
       "0  0.017268       1.412952      -1.357043  2.769995            0.281398   \n",
       "1  0.018069       1.584851      -1.358086  2.942937            0.282474   \n",
       "2  0.018003       1.363093      -1.324916  2.688009            0.277097   \n",
       "3  0.016062       1.204754      -1.366639  2.571393            0.291336   \n",
       "4  0.014902       1.524770      -1.471156  2.995926            0.280108   \n",
       "\n",
       "   Variance  Absolute_mean  Absolute_MAX       RMS  Crest Factor  \\\n",
       "0  0.079185       0.196635      1.412952  0.281927      5.011757   \n",
       "1  0.079792       0.193394      1.584851  0.283051      5.599162   \n",
       "2  0.076783       0.197085      1.363093  0.277682      4.908836   \n",
       "3  0.084877       0.199947      1.366639  0.291778      4.683827   \n",
       "4  0.078460       0.193867      1.524770  0.280504      5.435823   \n",
       "\n",
       "   Shape factor  Impulse Factor  Kurtosis  Skewness  Clearance Factor   Label  \\\n",
       "0      1.433760        7.185659  4.159016  0.031073          9.014326  IR_7_2   \n",
       "1      1.463597        8.194916  4.614927 -0.071194         10.411133  IR_7_2   \n",
       "2      1.408944        6.916276  4.031559 -0.065819          8.552567  IR_7_2   \n",
       "3      1.459277        6.834998  3.899971 -0.136256          8.657523  IR_7_2   \n",
       "4      1.446891        7.865044  4.702297 -0.285466          9.985361  IR_7_2   \n",
       "\n",
       "   Label_no                      FAULT TYPE  \n",
       "0         0  INNER RACE FAULT OF 0.007 INCH  \n",
       "1         0  INNER RACE FAULT OF 0.007 INCH  \n",
       "2         0  INNER RACE FAULT OF 0.007 INCH  \n",
       "3         0  INNER RACE FAULT OF 0.007 INCH  \n",
       "4         0  INNER RACE FAULT OF 0.007 INCH  "
      ]
     },
     "execution_count": 3,
     "metadata": {},
     "output_type": "execute_result"
    }
   ],
   "source": [
    "LData_url='D:/study/s7 files/UG Project Files/Project Code/Final_Year_Project/Data/final data/DATA_2.csv'\n",
    "LData=pd.read_csv(LData_url)\n",
    "LData.drop(['Unnamed: 0'],inplace=True,axis=1)\n",
    "LData.head()"
   ]
  },
  {
   "cell_type": "code",
   "execution_count": 4,
   "id": "a088798a",
   "metadata": {},
   "outputs": [
    {
     "data": {
      "text/html": [
       "<div>\n",
       "<style scoped>\n",
       "    .dataframe tbody tr th:only-of-type {\n",
       "        vertical-align: middle;\n",
       "    }\n",
       "\n",
       "    .dataframe tbody tr th {\n",
       "        vertical-align: top;\n",
       "    }\n",
       "\n",
       "    .dataframe thead th {\n",
       "        text-align: right;\n",
       "    }\n",
       "</style>\n",
       "<table border=\"1\" class=\"dataframe\">\n",
       "  <thead>\n",
       "    <tr style=\"text-align: right;\">\n",
       "      <th></th>\n",
       "      <th>Mean</th>\n",
       "      <th>Maximum_value</th>\n",
       "      <th>Minimum_value</th>\n",
       "      <th>Range</th>\n",
       "      <th>Standard Deviation</th>\n",
       "      <th>Variance</th>\n",
       "      <th>Absolute_mean</th>\n",
       "      <th>Absolute_MAX</th>\n",
       "      <th>RMS</th>\n",
       "      <th>Crest Factor</th>\n",
       "      <th>Shape factor</th>\n",
       "      <th>Impulse Factor</th>\n",
       "      <th>Kurtosis</th>\n",
       "      <th>Skewness</th>\n",
       "      <th>Clearance Factor</th>\n",
       "      <th>Label_no</th>\n",
       "    </tr>\n",
       "  </thead>\n",
       "  <tbody>\n",
       "    <tr>\n",
       "      <th>0</th>\n",
       "      <td>0.017268</td>\n",
       "      <td>1.412952</td>\n",
       "      <td>-1.357043</td>\n",
       "      <td>2.769995</td>\n",
       "      <td>0.281398</td>\n",
       "      <td>0.079185</td>\n",
       "      <td>0.196635</td>\n",
       "      <td>1.412952</td>\n",
       "      <td>0.281927</td>\n",
       "      <td>5.011757</td>\n",
       "      <td>1.433760</td>\n",
       "      <td>7.185659</td>\n",
       "      <td>4.159016</td>\n",
       "      <td>0.031073</td>\n",
       "      <td>9.014326</td>\n",
       "      <td>0</td>\n",
       "    </tr>\n",
       "    <tr>\n",
       "      <th>1</th>\n",
       "      <td>0.018069</td>\n",
       "      <td>1.584851</td>\n",
       "      <td>-1.358086</td>\n",
       "      <td>2.942937</td>\n",
       "      <td>0.282474</td>\n",
       "      <td>0.079792</td>\n",
       "      <td>0.193394</td>\n",
       "      <td>1.584851</td>\n",
       "      <td>0.283051</td>\n",
       "      <td>5.599162</td>\n",
       "      <td>1.463597</td>\n",
       "      <td>8.194916</td>\n",
       "      <td>4.614927</td>\n",
       "      <td>-0.071194</td>\n",
       "      <td>10.411133</td>\n",
       "      <td>0</td>\n",
       "    </tr>\n",
       "    <tr>\n",
       "      <th>2</th>\n",
       "      <td>0.018003</td>\n",
       "      <td>1.363093</td>\n",
       "      <td>-1.324916</td>\n",
       "      <td>2.688009</td>\n",
       "      <td>0.277097</td>\n",
       "      <td>0.076783</td>\n",
       "      <td>0.197085</td>\n",
       "      <td>1.363093</td>\n",
       "      <td>0.277682</td>\n",
       "      <td>4.908836</td>\n",
       "      <td>1.408944</td>\n",
       "      <td>6.916276</td>\n",
       "      <td>4.031559</td>\n",
       "      <td>-0.065819</td>\n",
       "      <td>8.552567</td>\n",
       "      <td>0</td>\n",
       "    </tr>\n",
       "    <tr>\n",
       "      <th>3</th>\n",
       "      <td>0.016062</td>\n",
       "      <td>1.204754</td>\n",
       "      <td>-1.366639</td>\n",
       "      <td>2.571393</td>\n",
       "      <td>0.291336</td>\n",
       "      <td>0.084877</td>\n",
       "      <td>0.199947</td>\n",
       "      <td>1.366639</td>\n",
       "      <td>0.291778</td>\n",
       "      <td>4.683827</td>\n",
       "      <td>1.459277</td>\n",
       "      <td>6.834998</td>\n",
       "      <td>3.899971</td>\n",
       "      <td>-0.136256</td>\n",
       "      <td>8.657523</td>\n",
       "      <td>0</td>\n",
       "    </tr>\n",
       "    <tr>\n",
       "      <th>4</th>\n",
       "      <td>0.014902</td>\n",
       "      <td>1.524770</td>\n",
       "      <td>-1.471156</td>\n",
       "      <td>2.995926</td>\n",
       "      <td>0.280108</td>\n",
       "      <td>0.078460</td>\n",
       "      <td>0.193867</td>\n",
       "      <td>1.524770</td>\n",
       "      <td>0.280504</td>\n",
       "      <td>5.435823</td>\n",
       "      <td>1.446891</td>\n",
       "      <td>7.865044</td>\n",
       "      <td>4.702297</td>\n",
       "      <td>-0.285466</td>\n",
       "      <td>9.985361</td>\n",
       "      <td>0</td>\n",
       "    </tr>\n",
       "    <tr>\n",
       "      <th>...</th>\n",
       "      <td>...</td>\n",
       "      <td>...</td>\n",
       "      <td>...</td>\n",
       "      <td>...</td>\n",
       "      <td>...</td>\n",
       "      <td>...</td>\n",
       "      <td>...</td>\n",
       "      <td>...</td>\n",
       "      <td>...</td>\n",
       "      <td>...</td>\n",
       "      <td>...</td>\n",
       "      <td>...</td>\n",
       "      <td>...</td>\n",
       "      <td>...</td>\n",
       "      <td>...</td>\n",
       "      <td>...</td>\n",
       "    </tr>\n",
       "    <tr>\n",
       "      <th>2918</th>\n",
       "      <td>0.011227</td>\n",
       "      <td>0.160425</td>\n",
       "      <td>-0.173777</td>\n",
       "      <td>0.334202</td>\n",
       "      <td>0.058572</td>\n",
       "      <td>0.003431</td>\n",
       "      <td>0.048321</td>\n",
       "      <td>0.173777</td>\n",
       "      <td>0.059639</td>\n",
       "      <td>2.913828</td>\n",
       "      <td>1.234225</td>\n",
       "      <td>3.596321</td>\n",
       "      <td>-0.235986</td>\n",
       "      <td>-0.142791</td>\n",
       "      <td>4.204036</td>\n",
       "      <td>9</td>\n",
       "    </tr>\n",
       "    <tr>\n",
       "      <th>2919</th>\n",
       "      <td>0.010400</td>\n",
       "      <td>0.194847</td>\n",
       "      <td>-0.165849</td>\n",
       "      <td>0.360696</td>\n",
       "      <td>0.059845</td>\n",
       "      <td>0.003581</td>\n",
       "      <td>0.049265</td>\n",
       "      <td>0.194847</td>\n",
       "      <td>0.060742</td>\n",
       "      <td>3.207799</td>\n",
       "      <td>1.232968</td>\n",
       "      <td>3.955113</td>\n",
       "      <td>-0.244767</td>\n",
       "      <td>-0.028598</td>\n",
       "      <td>4.624299</td>\n",
       "      <td>9</td>\n",
       "    </tr>\n",
       "    <tr>\n",
       "      <th>2920</th>\n",
       "      <td>0.010330</td>\n",
       "      <td>0.189214</td>\n",
       "      <td>-0.228017</td>\n",
       "      <td>0.417231</td>\n",
       "      <td>0.065553</td>\n",
       "      <td>0.004297</td>\n",
       "      <td>0.052928</td>\n",
       "      <td>0.228017</td>\n",
       "      <td>0.066362</td>\n",
       "      <td>3.435936</td>\n",
       "      <td>1.253814</td>\n",
       "      <td>4.308026</td>\n",
       "      <td>0.038159</td>\n",
       "      <td>-0.147712</td>\n",
       "      <td>5.077403</td>\n",
       "      <td>9</td>\n",
       "    </tr>\n",
       "    <tr>\n",
       "      <th>2921</th>\n",
       "      <td>0.011411</td>\n",
       "      <td>0.181495</td>\n",
       "      <td>-0.169396</td>\n",
       "      <td>0.350891</td>\n",
       "      <td>0.060620</td>\n",
       "      <td>0.003675</td>\n",
       "      <td>0.049961</td>\n",
       "      <td>0.181495</td>\n",
       "      <td>0.061684</td>\n",
       "      <td>2.942332</td>\n",
       "      <td>1.234649</td>\n",
       "      <td>3.632748</td>\n",
       "      <td>-0.259037</td>\n",
       "      <td>-0.094487</td>\n",
       "      <td>4.256589</td>\n",
       "      <td>9</td>\n",
       "    </tr>\n",
       "    <tr>\n",
       "      <th>2922</th>\n",
       "      <td>0.012802</td>\n",
       "      <td>0.234692</td>\n",
       "      <td>-0.190466</td>\n",
       "      <td>0.425158</td>\n",
       "      <td>0.066843</td>\n",
       "      <td>0.004468</td>\n",
       "      <td>0.053565</td>\n",
       "      <td>0.234692</td>\n",
       "      <td>0.068058</td>\n",
       "      <td>3.448425</td>\n",
       "      <td>1.270563</td>\n",
       "      <td>4.381442</td>\n",
       "      <td>0.322210</td>\n",
       "      <td>-0.057616</td>\n",
       "      <td>5.223119</td>\n",
       "      <td>9</td>\n",
       "    </tr>\n",
       "  </tbody>\n",
       "</table>\n",
       "<p>2923 rows × 16 columns</p>\n",
       "</div>"
      ],
      "text/plain": [
       "          Mean  Maximum_value  Minimum_value     Range  Standard Deviation  \\\n",
       "0     0.017268       1.412952      -1.357043  2.769995            0.281398   \n",
       "1     0.018069       1.584851      -1.358086  2.942937            0.282474   \n",
       "2     0.018003       1.363093      -1.324916  2.688009            0.277097   \n",
       "3     0.016062       1.204754      -1.366639  2.571393            0.291336   \n",
       "4     0.014902       1.524770      -1.471156  2.995926            0.280108   \n",
       "...        ...            ...            ...       ...                 ...   \n",
       "2918  0.011227       0.160425      -0.173777  0.334202            0.058572   \n",
       "2919  0.010400       0.194847      -0.165849  0.360696            0.059845   \n",
       "2920  0.010330       0.189214      -0.228017  0.417231            0.065553   \n",
       "2921  0.011411       0.181495      -0.169396  0.350891            0.060620   \n",
       "2922  0.012802       0.234692      -0.190466  0.425158            0.066843   \n",
       "\n",
       "      Variance  Absolute_mean  Absolute_MAX       RMS  Crest Factor  \\\n",
       "0     0.079185       0.196635      1.412952  0.281927      5.011757   \n",
       "1     0.079792       0.193394      1.584851  0.283051      5.599162   \n",
       "2     0.076783       0.197085      1.363093  0.277682      4.908836   \n",
       "3     0.084877       0.199947      1.366639  0.291778      4.683827   \n",
       "4     0.078460       0.193867      1.524770  0.280504      5.435823   \n",
       "...        ...            ...           ...       ...           ...   \n",
       "2918  0.003431       0.048321      0.173777  0.059639      2.913828   \n",
       "2919  0.003581       0.049265      0.194847  0.060742      3.207799   \n",
       "2920  0.004297       0.052928      0.228017  0.066362      3.435936   \n",
       "2921  0.003675       0.049961      0.181495  0.061684      2.942332   \n",
       "2922  0.004468       0.053565      0.234692  0.068058      3.448425   \n",
       "\n",
       "      Shape factor  Impulse Factor  Kurtosis  Skewness  Clearance Factor  \\\n",
       "0         1.433760        7.185659  4.159016  0.031073          9.014326   \n",
       "1         1.463597        8.194916  4.614927 -0.071194         10.411133   \n",
       "2         1.408944        6.916276  4.031559 -0.065819          8.552567   \n",
       "3         1.459277        6.834998  3.899971 -0.136256          8.657523   \n",
       "4         1.446891        7.865044  4.702297 -0.285466          9.985361   \n",
       "...            ...             ...       ...       ...               ...   \n",
       "2918      1.234225        3.596321 -0.235986 -0.142791          4.204036   \n",
       "2919      1.232968        3.955113 -0.244767 -0.028598          4.624299   \n",
       "2920      1.253814        4.308026  0.038159 -0.147712          5.077403   \n",
       "2921      1.234649        3.632748 -0.259037 -0.094487          4.256589   \n",
       "2922      1.270563        4.381442  0.322210 -0.057616          5.223119   \n",
       "\n",
       "      Label_no  \n",
       "0            0  \n",
       "1            0  \n",
       "2            0  \n",
       "3            0  \n",
       "4            0  \n",
       "...        ...  \n",
       "2918         9  \n",
       "2919         9  \n",
       "2920         9  \n",
       "2921         9  \n",
       "2922         9  \n",
       "\n",
       "[2923 rows x 16 columns]"
      ]
     },
     "execution_count": 4,
     "metadata": {},
     "output_type": "execute_result"
    }
   ],
   "source": [
    "Data_modified=LData\n",
    "del Data_modified['Label']\n",
    "del Data_modified['FAULT TYPE']\n",
    "Data_modified"
   ]
  },
  {
   "cell_type": "code",
   "execution_count": 5,
   "id": "ab3fa16b",
   "metadata": {},
   "outputs": [
    {
     "data": {
      "text/plain": [
       "array([[ 1.19796833, -0.14434151,  0.15749221, ...,  0.26649433,\n",
       "         0.31412413,  0.18036255],\n",
       "       [ 1.44632272, -0.03085589,  0.15680379, ...,  0.37375017,\n",
       "        -0.22523813,  0.48556699],\n",
       "       [ 1.42578833, -0.17725785,  0.17869555, ...,  0.23650906,\n",
       "        -0.19688681,  0.07946773],\n",
       "       ...,\n",
       "       [-0.95294074, -0.95223791,  0.9026382 , ..., -0.70296439,\n",
       "        -0.62879767, -0.67986044],\n",
       "       [-0.61788058, -0.95733375,  0.94132741, ..., -0.77288179,\n",
       "        -0.34808446, -0.85920952],\n",
       "       [-0.18642364, -0.92221381,  0.92742132, ..., -0.63613941,\n",
       "        -0.15362661, -0.64802142]])"
      ]
     },
     "execution_count": 5,
     "metadata": {},
     "output_type": "execute_result"
    }
   ],
   "source": [
    "scaler=StandardScaler()\n",
    "scaler.fit(Data_modified.drop('Label_no',axis=1))\n",
    "scaled_features=scaler.transform(Data_modified.drop('Label_no',axis=1))\n",
    "scaled_features"
   ]
  },
  {
   "cell_type": "code",
   "execution_count": 23,
   "id": "387b4a16",
   "metadata": {},
   "outputs": [
    {
     "data": {
      "text/html": [
       "<div>\n",
       "<style scoped>\n",
       "    .dataframe tbody tr th:only-of-type {\n",
       "        vertical-align: middle;\n",
       "    }\n",
       "\n",
       "    .dataframe tbody tr th {\n",
       "        vertical-align: top;\n",
       "    }\n",
       "\n",
       "    .dataframe thead th {\n",
       "        text-align: right;\n",
       "    }\n",
       "</style>\n",
       "<table border=\"1\" class=\"dataframe\">\n",
       "  <thead>\n",
       "    <tr style=\"text-align: right;\">\n",
       "      <th></th>\n",
       "      <th>Mean</th>\n",
       "      <th>Maximum_value</th>\n",
       "      <th>Minimum_value</th>\n",
       "      <th>Range</th>\n",
       "      <th>Standard Deviation</th>\n",
       "      <th>Variance</th>\n",
       "      <th>Absolute_mean</th>\n",
       "      <th>Absolute_MAX</th>\n",
       "      <th>RMS</th>\n",
       "      <th>Crest Factor</th>\n",
       "      <th>Shape factor</th>\n",
       "      <th>Impulse Factor</th>\n",
       "      <th>Kurtosis</th>\n",
       "      <th>Skewness</th>\n",
       "      <th>Clearance Factor</th>\n",
       "      <th>Label_no</th>\n",
       "    </tr>\n",
       "  </thead>\n",
       "  <tbody>\n",
       "    <tr>\n",
       "      <th>0</th>\n",
       "      <td>1.197968</td>\n",
       "      <td>-0.144342</td>\n",
       "      <td>0.157492</td>\n",
       "      <td>-0.151203</td>\n",
       "      <td>-0.271845</td>\n",
       "      <td>-0.451548</td>\n",
       "      <td>-0.254053</td>\n",
       "      <td>-0.167073</td>\n",
       "      <td>-0.271995</td>\n",
       "      <td>0.638615</td>\n",
       "      <td>0.064122</td>\n",
       "      <td>0.326553</td>\n",
       "      <td>0.266494</td>\n",
       "      <td>0.314124</td>\n",
       "      <td>0.180363</td>\n",
       "      <td>0</td>\n",
       "    </tr>\n",
       "    <tr>\n",
       "      <th>1</th>\n",
       "      <td>1.446323</td>\n",
       "      <td>-0.030856</td>\n",
       "      <td>0.156804</td>\n",
       "      <td>-0.094017</td>\n",
       "      <td>-0.268430</td>\n",
       "      <td>-0.449779</td>\n",
       "      <td>-0.269968</td>\n",
       "      <td>-0.056224</td>\n",
       "      <td>-0.268425</td>\n",
       "      <td>1.134384</td>\n",
       "      <td>0.199106</td>\n",
       "      <td>0.685482</td>\n",
       "      <td>0.373750</td>\n",
       "      <td>-0.225238</td>\n",
       "      <td>0.485567</td>\n",
       "      <td>0</td>\n",
       "    </tr>\n",
       "    <tr>\n",
       "      <th>2</th>\n",
       "      <td>1.425788</td>\n",
       "      <td>-0.177258</td>\n",
       "      <td>0.178696</td>\n",
       "      <td>-0.178313</td>\n",
       "      <td>-0.285496</td>\n",
       "      <td>-0.458554</td>\n",
       "      <td>-0.251844</td>\n",
       "      <td>-0.199224</td>\n",
       "      <td>-0.285484</td>\n",
       "      <td>0.551750</td>\n",
       "      <td>-0.048149</td>\n",
       "      <td>0.230750</td>\n",
       "      <td>0.236509</td>\n",
       "      <td>-0.196887</td>\n",
       "      <td>0.079468</td>\n",
       "      <td>0</td>\n",
       "    </tr>\n",
       "    <tr>\n",
       "      <th>3</th>\n",
       "      <td>0.824063</td>\n",
       "      <td>-0.281791</td>\n",
       "      <td>0.151159</td>\n",
       "      <td>-0.216875</td>\n",
       "      <td>-0.240304</td>\n",
       "      <td>-0.434947</td>\n",
       "      <td>-0.237786</td>\n",
       "      <td>-0.196937</td>\n",
       "      <td>-0.240702</td>\n",
       "      <td>0.361842</td>\n",
       "      <td>0.179560</td>\n",
       "      <td>0.201845</td>\n",
       "      <td>0.205552</td>\n",
       "      <td>-0.568380</td>\n",
       "      <td>0.102401</td>\n",
       "      <td>0</td>\n",
       "    </tr>\n",
       "    <tr>\n",
       "      <th>4</th>\n",
       "      <td>0.464385</td>\n",
       "      <td>-0.070521</td>\n",
       "      <td>0.082179</td>\n",
       "      <td>-0.076495</td>\n",
       "      <td>-0.275941</td>\n",
       "      <td>-0.453661</td>\n",
       "      <td>-0.267648</td>\n",
       "      <td>-0.094968</td>\n",
       "      <td>-0.276518</td>\n",
       "      <td>0.996526</td>\n",
       "      <td>0.123527</td>\n",
       "      <td>0.568167</td>\n",
       "      <td>0.394305</td>\n",
       "      <td>-1.355324</td>\n",
       "      <td>0.392535</td>\n",
       "      <td>0</td>\n",
       "    </tr>\n",
       "  </tbody>\n",
       "</table>\n",
       "</div>"
      ],
      "text/plain": [
       "       Mean  Maximum_value  Minimum_value     Range  Standard Deviation  \\\n",
       "0  1.197968      -0.144342       0.157492 -0.151203           -0.271845   \n",
       "1  1.446323      -0.030856       0.156804 -0.094017           -0.268430   \n",
       "2  1.425788      -0.177258       0.178696 -0.178313           -0.285496   \n",
       "3  0.824063      -0.281791       0.151159 -0.216875           -0.240304   \n",
       "4  0.464385      -0.070521       0.082179 -0.076495           -0.275941   \n",
       "\n",
       "   Variance  Absolute_mean  Absolute_MAX       RMS  Crest Factor  \\\n",
       "0 -0.451548      -0.254053     -0.167073 -0.271995      0.638615   \n",
       "1 -0.449779      -0.269968     -0.056224 -0.268425      1.134384   \n",
       "2 -0.458554      -0.251844     -0.199224 -0.285484      0.551750   \n",
       "3 -0.434947      -0.237786     -0.196937 -0.240702      0.361842   \n",
       "4 -0.453661      -0.267648     -0.094968 -0.276518      0.996526   \n",
       "\n",
       "   Shape factor  Impulse Factor  Kurtosis  Skewness  Clearance Factor  \\\n",
       "0      0.064122        0.326553  0.266494  0.314124          0.180363   \n",
       "1      0.199106        0.685482  0.373750 -0.225238          0.485567   \n",
       "2     -0.048149        0.230750  0.236509 -0.196887          0.079468   \n",
       "3      0.179560        0.201845  0.205552 -0.568380          0.102401   \n",
       "4      0.123527        0.568167  0.394305 -1.355324          0.392535   \n",
       "\n",
       "   Label_no  \n",
       "0         0  \n",
       "1         0  \n",
       "2         0  \n",
       "3         0  \n",
       "4         0  "
      ]
     },
     "execution_count": 23,
     "metadata": {},
     "output_type": "execute_result"
    }
   ],
   "source": [
    "scaled_df=pd.DataFrame(scaled_features,columns=Data_modified.columns[:-1])\n",
    "scaled_df['Label_no']=Data_modified['Label_no']\n",
    "scaled_df.head()"
   ]
  },
  {
   "cell_type": "code",
   "execution_count": 24,
   "id": "851730e5",
   "metadata": {},
   "outputs": [],
   "source": [
    "X=scaled_df\n",
    "Y=Data_modified['Label_no']\n",
    "train_data,test_data = train_test_split(scaled_df,test_size=750,stratify = scaled_df['Label_no'], random_state=132)\n"
   ]
  },
  {
   "cell_type": "code",
   "execution_count": 8,
   "id": "b2d07fa0",
   "metadata": {},
   "outputs": [],
   "source": [
    "rforest=RandomForestClassifier(n_estimators=200)"
   ]
  },
  {
   "cell_type": "code",
   "execution_count": 25,
   "id": "055a3c9f",
   "metadata": {},
   "outputs": [
    {
     "data": {
      "text/plain": [
       "RandomForestClassifier(n_estimators=200)"
      ]
     },
     "execution_count": 25,
     "metadata": {},
     "output_type": "execute_result"
    }
   ],
   "source": [
    "rforest.fit(train_data.iloc[:,:-1],train_data['Label_no'])"
   ]
  },
  {
   "cell_type": "code",
   "execution_count": 27,
   "id": "eb766848",
   "metadata": {},
   "outputs": [],
   "source": [
    "test_predictions_RF=rforest.predict(test_data.iloc[:,:-1])\n",
    "train_predictions_RF=rforest.predict(train_data.iloc[:,:-1])"
   ]
  },
  {
   "cell_type": "code",
   "execution_count": 29,
   "id": "a4f282dc",
   "metadata": {},
   "outputs": [
    {
     "name": "stdout",
     "output_type": "stream",
     "text": [
      "              precision    recall  f1-score   support\n",
      "\n",
      "           0       0.99      1.00      0.99        75\n",
      "           1       0.90      0.84      0.87        75\n",
      "           2       0.96      1.00      0.98        76\n",
      "           3       1.00      1.00      1.00        75\n",
      "           4       0.69      0.80      0.74        75\n",
      "           5       0.90      0.97      0.94        75\n",
      "           6       0.82      0.72      0.77        75\n",
      "           7       0.82      0.83      0.82        75\n",
      "           8       0.88      0.77      0.82        75\n",
      "           9       1.00      1.00      1.00        74\n",
      "\n",
      "    accuracy                           0.89       750\n",
      "   macro avg       0.90      0.89      0.89       750\n",
      "weighted avg       0.90      0.89      0.89       750\n",
      "\n"
     ]
    }
   ],
   "source": [
    "print(classification_report(test_data['Label_no'],test_predictions_RF))"
   ]
  },
  {
   "cell_type": "code",
   "execution_count": 12,
   "id": "35a4c02e",
   "metadata": {},
   "outputs": [],
   "source": [
    "\n",
    "from sklearn.model_selection import GridSearchCV"
   ]
  },
  {
   "cell_type": "code",
   "execution_count": 13,
   "id": "c546ed33",
   "metadata": {},
   "outputs": [],
   "source": [
    "parameter_grid={'n_estimators': [100, 200,250, 300]}"
   ]
  },
  {
   "cell_type": "code",
   "execution_count": 14,
   "id": "434d7bb2",
   "metadata": {},
   "outputs": [],
   "source": [
    "grid_value=GridSearchCV(RandomForestClassifier(),parameter_grid,refit=True,verbose=3)"
   ]
  },
  {
   "cell_type": "code",
   "execution_count": 30,
   "id": "43299cfe",
   "metadata": {},
   "outputs": [
    {
     "name": "stdout",
     "output_type": "stream",
     "text": [
      "Fitting 5 folds for each of 4 candidates, totalling 20 fits\n",
      "[CV 1/5] END ...............................n_estimators=100; total time=   0.3s\n",
      "[CV 2/5] END ...............................n_estimators=100; total time=   0.2s\n",
      "[CV 3/5] END ...............................n_estimators=100; total time=   0.3s\n",
      "[CV 4/5] END ...............................n_estimators=100; total time=   0.2s\n",
      "[CV 5/5] END ...............................n_estimators=100; total time=   0.2s\n",
      "[CV 1/5] END ...............................n_estimators=200; total time=   0.6s\n",
      "[CV 2/5] END ...............................n_estimators=200; total time=   0.7s\n",
      "[CV 3/5] END ...............................n_estimators=200; total time=   0.6s\n",
      "[CV 4/5] END ...............................n_estimators=200; total time=   0.6s\n",
      "[CV 5/5] END ...............................n_estimators=200; total time=   0.6s\n",
      "[CV 1/5] END ...............................n_estimators=250; total time=   0.8s\n",
      "[CV 2/5] END ...............................n_estimators=250; total time=   0.8s\n",
      "[CV 3/5] END ...............................n_estimators=250; total time=   0.7s\n",
      "[CV 4/5] END ...............................n_estimators=250; total time=   0.8s\n",
      "[CV 5/5] END ...............................n_estimators=250; total time=   0.8s\n",
      "[CV 1/5] END ...............................n_estimators=300; total time=   1.0s\n",
      "[CV 2/5] END ...............................n_estimators=300; total time=   1.0s\n",
      "[CV 3/5] END ...............................n_estimators=300; total time=   1.0s\n",
      "[CV 4/5] END ...............................n_estimators=300; total time=   1.0s\n",
      "[CV 5/5] END ...............................n_estimators=300; total time=   1.0s\n"
     ]
    },
    {
     "data": {
      "text/plain": [
       "GridSearchCV(estimator=RandomForestClassifier(),\n",
       "             param_grid={'n_estimators': [100, 200, 250, 300]}, verbose=3)"
      ]
     },
     "execution_count": 30,
     "metadata": {},
     "output_type": "execute_result"
    }
   ],
   "source": [
    "grid_value.fit(train_data.iloc[:,:-1],train_data['Label_no'])"
   ]
  },
  {
   "cell_type": "code",
   "execution_count": 31,
   "id": "f6dd473b",
   "metadata": {},
   "outputs": [
    {
     "data": {
      "text/plain": [
       "{'n_estimators': 100}"
      ]
     },
     "execution_count": 31,
     "metadata": {},
     "output_type": "execute_result"
    }
   ],
   "source": [
    "grid_value.best_params_"
   ]
  },
  {
   "cell_type": "code",
   "execution_count": 32,
   "id": "877accdd",
   "metadata": {},
   "outputs": [
    {
     "data": {
      "text/plain": [
       "RandomForestClassifier()"
      ]
     },
     "execution_count": 32,
     "metadata": {},
     "output_type": "execute_result"
    }
   ],
   "source": [
    "grid_value.best_estimator_"
   ]
  },
  {
   "cell_type": "code",
   "execution_count": 33,
   "id": "dcb78bad",
   "metadata": {},
   "outputs": [],
   "source": [
    "grid_predictions=grid_value.predict(test_data.iloc[:,:-1])"
   ]
  },
  {
   "cell_type": "code",
   "execution_count": 35,
   "id": "332138c2",
   "metadata": {},
   "outputs": [
    {
     "name": "stdout",
     "output_type": "stream",
     "text": [
      "              precision    recall  f1-score   support\n",
      "\n",
      "           0       0.99      1.00      0.99        75\n",
      "           1       0.91      0.83      0.87        75\n",
      "           2       0.96      1.00      0.98        76\n",
      "           3       1.00      1.00      1.00        75\n",
      "           4       0.71      0.85      0.78        75\n",
      "           5       0.91      0.97      0.94        75\n",
      "           6       0.83      0.72      0.77        75\n",
      "           7       0.84      0.85      0.85        75\n",
      "           8       0.88      0.79      0.83        75\n",
      "           9       1.00      1.00      1.00        74\n",
      "\n",
      "    accuracy                           0.90       750\n",
      "   macro avg       0.90      0.90      0.90       750\n",
      "weighted avg       0.90      0.90      0.90       750\n",
      "\n"
     ]
    }
   ],
   "source": [
    "print(classification_report(test_data['Label_no'],grid_predictions))"
   ]
  },
  {
   "cell_type": "code",
   "execution_count": 55,
   "id": "1db8207e",
   "metadata": {},
   "outputs": [],
   "source": [
    "train_confusion_matrix = confusion_matrix(train_data['Label_no'], train_predictions_RF)\n",
    "test_confusion_matrix = confusion_matrix(test_data['Label_no'], test_predictions_RF)\n",
    "fault_type = ['IR_7_1','IR_14_1','IR_21_1','BL_7_1','BL_14_1','BL_21_1','OR_7_1','OR_14_1','OR_21_1','NORMAL']"
   ]
  },
  {
   "cell_type": "code",
   "execution_count": 61,
   "id": "56f5acaa",
   "metadata": {
    "scrolled": true
   },
   "outputs": [
    {
     "data": {
      "text/plain": [
       "Text(140.09375, 0.5, 'True')"
      ]
     },
     "execution_count": 61,
     "metadata": {},
     "output_type": "execute_result"
    },
    {
     "data": {
      "image/png": "[encoded data removed]",
      "text/plain": [
       "<Figure size 1296x864 with 2 Axes>"
      ]
     },
     "metadata": {
      "needs_background": "light"
     },
     "output_type": "display_data"
    }
   ],
   "source": [
    "\n",
    "plt.figure(1,figsize=(18,12))\n",
    "sns.heatmap(train_confusion_matrix, annot= True,cmap='Greens',xticklabels=fault_type,yticklabels=fault_type,fmt='d')\n",
    "plt.title('Training Confusion Matrix')\n",
    "plt.xlabel('Predicted')\n",
    "plt.ylabel('True')\n"
   ]
  },
  {
   "cell_type": "code",
   "execution_count": 58,
   "id": "98872923",
   "metadata": {},
   "outputs": [
    {
     "data": {
      "text/plain": [
       "Text(140.09375, 0.5, 'True')"
      ]
     },
     "execution_count": 58,
     "metadata": {},
     "output_type": "execute_result"
    },
    {
     "data": {
      "image/png": "[encoded data removed]",
      "text/plain": [
       "<Figure size 1296x864 with 2 Axes>"
      ]
     },
     "metadata": {
      "needs_background": "light"
     },
     "output_type": "display_data"
    }
   ],
   "source": [
    "plt.figure(2,figsize=(18,12))\n",
    "sns.heatmap(test_confusion_matrix,annot = True,xticklabels=fault_type,yticklabels=fault_type)\n",
    "plt.title('Test Confusion Matrix')\n",
    "plt.xlabel('Predicted')\n",
    "plt.ylabel('True')\n"
   ]
  },
  {
   "cell_type": "code",
   "execution_count": 62,
   "id": "01978bc1",
   "metadata": {},
   "outputs": [
    {
     "data": {
      "text/plain": [
       "Text(140.09375, 0.5, 'True')"
      ]
     },
     "execution_count": 62,
     "metadata": {},
     "output_type": "execute_result"
    },
    {
     "data": {
      "image/png": "[encoded data removed]",
      "text/plain": [
       "<Figure size 1296x864 with 2 Axes>"
      ]
     },
     "metadata": {
      "needs_background": "light"
     },
     "output_type": "display_data"
    }
   ],
   "source": [
    "plt.figure(2,figsize=(18,12))\n",
    "sns.heatmap(test_confusion_matrix/75,annot = True,xticklabels=fault_type,yticklabels=fault_type)\n",
    "plt.title('Test Confusion Matrix (%)')\n",
    "plt.xlabel('Predicted')\n",
    "plt.ylabel('True')"
   ]
  },
  {
   "cell_type": "code",
   "execution_count": null,
   "id": "35e1edef",
   "metadata": {},
   "outputs": [],
   "source": []
  }
 ],
 "metadata": {
  "kernelspec": {
   "display_name": "Python 3",
   "language": "python",
   "name": "python3"
  },
  "language_info": {
   "codemirror_mode": {
    "name": "ipython",
    "version": 3
   },
   "file_extension": ".py",
   "mimetype": "text/x-python",
   "name": "python",
   "nbconvert_exporter": "python",
   "pygments_lexer": "ipython3",
   "version": "3.8.8"
  }
 },
 "nbformat": 4,
 "nbformat_minor": 5
}
